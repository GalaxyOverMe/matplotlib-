{
 "cells": [
  {
   "cell_type": "code",
   "execution_count": null,
   "metadata": {},
   "outputs": [],
   "source": [
    "import os\n",
    "import urllib.request\n",
    "import shutil\n",
    "import zipfile\n",
    "from matplotlib import font_manager, rc, pyplot\n",
    "\n",
    "url = 'https://github.com/naver/nanumfont/releases/download/VER2.5/NanumGothicCoding-2.5.zip'\n",
    "archive = 'NanumGothicCoding-2.5.zip'\n",
    "urllib.request.urlretrieve(url, archive)\n",
    "\n",
    "font_file = 'NanumGothicCoding.ttf'           \n",
    "# font_file = 'NanumGothicCoding-Bold.ttf'\n",
    "\n",
    "with zipfile.ZipFile(archive, 'r') as zip_ref:\n",
    "    zip_ref.extract(font_file, '')\n",
    "\n",
    "os.remove(archive)\n",
    "\n",
    "font_manager.FontProperties(fname=font_file).get_name()\n",
    "rc('font', family= 'NanumGothicCoding')\n",
    "pyplot.title('테스트')\n",
    "pyplot.show()"
   ]
  }
 ],
 "metadata": {
  "language_info": {
   "name": "python"
  },
  "orig_nbformat": 4
 },
 "nbformat": 4,
 "nbformat_minor": 2
}
